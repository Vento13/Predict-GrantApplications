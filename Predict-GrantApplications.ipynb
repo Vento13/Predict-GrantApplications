{
 "cells": [
  {
   "cell_type": "code",
   "execution_count": 1,
   "metadata": {},
   "outputs": [],
   "source": [
    "import warnings\n",
    "warnings.filterwarnings('ignore')"
   ]
  },
  {
   "cell_type": "code",
   "execution_count": 2,
   "metadata": {},
   "outputs": [],
   "source": [
    "import pandas as pd\n",
    "import numpy as np\n",
    "import matplotlib\n",
    "from matplotlib import pyplot as plt\n",
    "matplotlib.style.use('ggplot')\n",
    "%matplotlib inline\n",
    "\n",
    "import warnings\n",
    "warnings.filterwarnings('ignore')"
   ]
  },
  {
   "cell_type": "code",
   "execution_count": 3,
   "metadata": {},
   "outputs": [
    {
     "data": {
      "text/plain": [
       "(6000, 39)"
      ]
     },
     "execution_count": 3,
     "metadata": {},
     "output_type": "execute_result"
    }
   ],
   "source": [
    "data = pd.read_csv('data.csv')\n",
    "data.shape"
   ]
  },
  {
   "cell_type": "code",
   "execution_count": 4,
   "metadata": {},
   "outputs": [],
   "source": [
    "X = data.drop('Grant.Status', 1)\n",
    "y = data['Grant.Status']"
   ]
  },
  {
   "cell_type": "code",
   "execution_count": 5,
   "metadata": {},
   "outputs": [
    {
     "data": {
      "text/html": [
       "<div>\n",
       "<style scoped>\n",
       "    .dataframe tbody tr th:only-of-type {\n",
       "        vertical-align: middle;\n",
       "    }\n",
       "\n",
       "    .dataframe tbody tr th {\n",
       "        vertical-align: top;\n",
       "    }\n",
       "\n",
       "    .dataframe thead th {\n",
       "        text-align: right;\n",
       "    }\n",
       "</style>\n",
       "<table border=\"1\" class=\"dataframe\">\n",
       "  <thead>\n",
       "    <tr style=\"text-align: right;\">\n",
       "      <th></th>\n",
       "      <th>Grant.Status</th>\n",
       "      <th>Sponsor.Code</th>\n",
       "      <th>Grant.Category.Code</th>\n",
       "      <th>Contract.Value.Band...see.note.A</th>\n",
       "      <th>RFCD.Code.1</th>\n",
       "      <th>RFCD.Percentage.1</th>\n",
       "      <th>RFCD.Code.2</th>\n",
       "      <th>RFCD.Percentage.2</th>\n",
       "      <th>RFCD.Code.3</th>\n",
       "      <th>RFCD.Percentage.3</th>\n",
       "      <th>...</th>\n",
       "      <th>Dept.No..1</th>\n",
       "      <th>Faculty.No..1</th>\n",
       "      <th>With.PHD.1</th>\n",
       "      <th>No..of.Years.in.Uni.at.Time.of.Grant.1</th>\n",
       "      <th>Number.of.Successful.Grant.1</th>\n",
       "      <th>Number.of.Unsuccessful.Grant.1</th>\n",
       "      <th>A..1</th>\n",
       "      <th>A.1</th>\n",
       "      <th>B.1</th>\n",
       "      <th>C.1</th>\n",
       "    </tr>\n",
       "  </thead>\n",
       "  <tbody>\n",
       "    <tr>\n",
       "      <th>0</th>\n",
       "      <td>1</td>\n",
       "      <td>21A</td>\n",
       "      <td>50A</td>\n",
       "      <td>A</td>\n",
       "      <td>230202.0</td>\n",
       "      <td>50.0</td>\n",
       "      <td>230203.0</td>\n",
       "      <td>30.0</td>\n",
       "      <td>230204.0</td>\n",
       "      <td>20.0</td>\n",
       "      <td>...</td>\n",
       "      <td>3098.0</td>\n",
       "      <td>31.0</td>\n",
       "      <td>Yes</td>\n",
       "      <td>&gt;=0 to 5</td>\n",
       "      <td>2.0</td>\n",
       "      <td>0.0</td>\n",
       "      <td>0.0</td>\n",
       "      <td>4.0</td>\n",
       "      <td>2.0</td>\n",
       "      <td>0.0</td>\n",
       "    </tr>\n",
       "    <tr>\n",
       "      <th>1</th>\n",
       "      <td>1</td>\n",
       "      <td>4D</td>\n",
       "      <td>10A</td>\n",
       "      <td>D</td>\n",
       "      <td>320801.0</td>\n",
       "      <td>100.0</td>\n",
       "      <td>0.0</td>\n",
       "      <td>0.0</td>\n",
       "      <td>0.0</td>\n",
       "      <td>0.0</td>\n",
       "      <td>...</td>\n",
       "      <td>2553.0</td>\n",
       "      <td>25.0</td>\n",
       "      <td>Yes</td>\n",
       "      <td>&gt;=0 to 5</td>\n",
       "      <td>3.0</td>\n",
       "      <td>1.0</td>\n",
       "      <td>0.0</td>\n",
       "      <td>2.0</td>\n",
       "      <td>0.0</td>\n",
       "      <td>0.0</td>\n",
       "    </tr>\n",
       "    <tr>\n",
       "      <th>2</th>\n",
       "      <td>0</td>\n",
       "      <td>NaN</td>\n",
       "      <td>NaN</td>\n",
       "      <td>NaN</td>\n",
       "      <td>320602.0</td>\n",
       "      <td>50.0</td>\n",
       "      <td>321004.0</td>\n",
       "      <td>30.0</td>\n",
       "      <td>321015.0</td>\n",
       "      <td>20.0</td>\n",
       "      <td>...</td>\n",
       "      <td>2813.0</td>\n",
       "      <td>25.0</td>\n",
       "      <td>NaN</td>\n",
       "      <td>Less than 0</td>\n",
       "      <td>1.0</td>\n",
       "      <td>5.0</td>\n",
       "      <td>0.0</td>\n",
       "      <td>7.0</td>\n",
       "      <td>2.0</td>\n",
       "      <td>0.0</td>\n",
       "    </tr>\n",
       "    <tr>\n",
       "      <th>3</th>\n",
       "      <td>0</td>\n",
       "      <td>51C</td>\n",
       "      <td>20C</td>\n",
       "      <td>A</td>\n",
       "      <td>291503.0</td>\n",
       "      <td>60.0</td>\n",
       "      <td>321402.0</td>\n",
       "      <td>40.0</td>\n",
       "      <td>0.0</td>\n",
       "      <td>0.0</td>\n",
       "      <td>...</td>\n",
       "      <td>2553.0</td>\n",
       "      <td>25.0</td>\n",
       "      <td>NaN</td>\n",
       "      <td>more than 15</td>\n",
       "      <td>2.0</td>\n",
       "      <td>1.0</td>\n",
       "      <td>5.0</td>\n",
       "      <td>6.0</td>\n",
       "      <td>9.0</td>\n",
       "      <td>1.0</td>\n",
       "    </tr>\n",
       "    <tr>\n",
       "      <th>4</th>\n",
       "      <td>0</td>\n",
       "      <td>24D</td>\n",
       "      <td>30B</td>\n",
       "      <td>NaN</td>\n",
       "      <td>380107.0</td>\n",
       "      <td>100.0</td>\n",
       "      <td>0.0</td>\n",
       "      <td>0.0</td>\n",
       "      <td>0.0</td>\n",
       "      <td>0.0</td>\n",
       "      <td>...</td>\n",
       "      <td>2923.0</td>\n",
       "      <td>25.0</td>\n",
       "      <td>NaN</td>\n",
       "      <td>Less than 0</td>\n",
       "      <td>0.0</td>\n",
       "      <td>2.0</td>\n",
       "      <td>0.0</td>\n",
       "      <td>0.0</td>\n",
       "      <td>0.0</td>\n",
       "      <td>0.0</td>\n",
       "    </tr>\n",
       "  </tbody>\n",
       "</table>\n",
       "<p>5 rows × 39 columns</p>\n",
       "</div>"
      ],
      "text/plain": [
       "   Grant.Status Sponsor.Code Grant.Category.Code  \\\n",
       "0             1          21A                 50A   \n",
       "1             1           4D                 10A   \n",
       "2             0          NaN                 NaN   \n",
       "3             0          51C                 20C   \n",
       "4             0          24D                 30B   \n",
       "\n",
       "  Contract.Value.Band...see.note.A  RFCD.Code.1  RFCD.Percentage.1  \\\n",
       "0                               A      230202.0               50.0   \n",
       "1                               D      320801.0              100.0   \n",
       "2                              NaN     320602.0               50.0   \n",
       "3                               A      291503.0               60.0   \n",
       "4                              NaN     380107.0              100.0   \n",
       "\n",
       "   RFCD.Code.2  RFCD.Percentage.2  RFCD.Code.3  RFCD.Percentage.3 ...   \\\n",
       "0     230203.0               30.0     230204.0               20.0 ...    \n",
       "1          0.0                0.0          0.0                0.0 ...    \n",
       "2     321004.0               30.0     321015.0               20.0 ...    \n",
       "3     321402.0               40.0          0.0                0.0 ...    \n",
       "4          0.0                0.0          0.0                0.0 ...    \n",
       "\n",
       "   Dept.No..1  Faculty.No..1  With.PHD.1  \\\n",
       "0      3098.0           31.0        Yes    \n",
       "1      2553.0           25.0        Yes    \n",
       "2      2813.0           25.0         NaN   \n",
       "3      2553.0           25.0         NaN   \n",
       "4      2923.0           25.0         NaN   \n",
       "\n",
       "   No..of.Years.in.Uni.at.Time.of.Grant.1  Number.of.Successful.Grant.1  \\\n",
       "0                                >=0 to 5                           2.0   \n",
       "1                                >=0 to 5                           3.0   \n",
       "2                             Less than 0                           1.0   \n",
       "3                            more than 15                           2.0   \n",
       "4                             Less than 0                           0.0   \n",
       "\n",
       "   Number.of.Unsuccessful.Grant.1  A..1  A.1  B.1  C.1  \n",
       "0                             0.0   0.0  4.0  2.0  0.0  \n",
       "1                             1.0   0.0  2.0  0.0  0.0  \n",
       "2                             5.0   0.0  7.0  2.0  0.0  \n",
       "3                             1.0   5.0  6.0  9.0  1.0  \n",
       "4                             2.0   0.0  0.0  0.0  0.0  \n",
       "\n",
       "[5 rows x 39 columns]"
      ]
     },
     "execution_count": 5,
     "metadata": {},
     "output_type": "execute_result"
    }
   ],
   "source": [
    "data.head()"
   ]
  },
  {
   "cell_type": "code",
   "execution_count": 6,
   "metadata": {},
   "outputs": [],
   "source": [
    "numeric_cols = ['RFCD.Percentage.1', 'RFCD.Percentage.2', 'RFCD.Percentage.3', \n",
    "                'RFCD.Percentage.4', 'RFCD.Percentage.5',\n",
    "                'SEO.Percentage.1', 'SEO.Percentage.2', 'SEO.Percentage.3',\n",
    "                'SEO.Percentage.4', 'SEO.Percentage.5',\n",
    "                'Year.of.Birth.1', 'Number.of.Successful.Grant.1', 'Number.of.Unsuccessful.Grant.1']\n",
    "categorical_cols = list(set(X.columns.values.tolist()) - set(numeric_cols))"
   ]
  },
  {
   "cell_type": "code",
   "execution_count": 7,
   "metadata": {},
   "outputs": [
    {
     "data": {
      "text/plain": [
       "(213, 39)"
      ]
     },
     "execution_count": 7,
     "metadata": {},
     "output_type": "execute_result"
    }
   ],
   "source": [
    "data.dropna().shape"
   ]
  },
  {
   "cell_type": "code",
   "execution_count": 8,
   "metadata": {},
   "outputs": [],
   "source": [
    "def calculate_means(numeric_data):\n",
    "    means = np.zeros(numeric_data.shape[1])\n",
    "    for j in range(numeric_data.shape[1]):\n",
    "        to_sum = numeric_data.iloc[:,j]\n",
    "        indices = np.nonzero(~numeric_data.iloc[:,j].isnull())[0]\n",
    "        correction = np.amax(to_sum[indices])\n",
    "        to_sum /= correction\n",
    "        for i in indices:\n",
    "            means[j] += to_sum[i]\n",
    "        means[j] /= indices.size\n",
    "        means[j] *= correction\n",
    "    return pd.Series(means, numeric_data.columns)"
   ]
  },
  {
   "cell_type": "code",
   "execution_count": 9,
   "metadata": {
    "scrolled": false
   },
   "outputs": [],
   "source": [
    "X_real_mean = X[numeric_cols].fillna(value = calculate_means(X[numeric_cols]))"
   ]
  },
  {
   "cell_type": "code",
   "execution_count": 10,
   "metadata": {},
   "outputs": [],
   "source": [
    "X_real_zeros = X[numeric_cols].fillna(0)"
   ]
  },
  {
   "cell_type": "code",
   "execution_count": 11,
   "metadata": {},
   "outputs": [],
   "source": [
    "X_cat = X[categorical_cols].fillna('Na').astype(str)"
   ]
  },
  {
   "cell_type": "code",
   "execution_count": null,
   "metadata": {},
   "outputs": [],
   "source": [
    "import sklearn\n",
    "from sklearn.linear_model import LogisticRegression as LR\n",
    "from sklearn.feature_extraction import DictVectorizer as DV"
   ]
  },
  {
   "cell_type": "code",
   "execution_count": 13,
   "metadata": {},
   "outputs": [
    {
     "data": {
      "text/plain": [
       "'0.19.1'"
      ]
     },
     "execution_count": 13,
     "metadata": {},
     "output_type": "execute_result"
    }
   ],
   "source": [
    "sklearn.__version__"
   ]
  },
  {
   "cell_type": "code",
   "execution_count": 14,
   "metadata": {},
   "outputs": [
    {
     "data": {
      "text/plain": [
       "(6000, 5593)"
      ]
     },
     "execution_count": 14,
     "metadata": {},
     "output_type": "execute_result"
    }
   ],
   "source": [
    "encoder = DV(sparse = False)\n",
    "X_cat_oh = encoder.fit_transform(X_cat.T.to_dict().values())\n",
    "X_cat_oh.shape"
   ]
  },
  {
   "cell_type": "code",
   "execution_count": 15,
   "metadata": {},
   "outputs": [],
   "source": [
    "from sklearn.model_selection import train_test_split\n",
    "\n",
    "(X_train_real_zeros, \n",
    " X_test_real_zeros, \n",
    " y_train, y_test) = train_test_split(X_real_zeros, y, \n",
    "                                     test_size=0.3, \n",
    "                                     random_state=0)\n",
    "(X_train_real_mean, \n",
    " X_test_real_mean) = train_test_split(X_real_mean, \n",
    "                                      test_size=0.3, \n",
    "                                      random_state=0)\n",
    "(X_train_cat_oh,\n",
    " X_test_cat_oh) = train_test_split(X_cat_oh, \n",
    "                                   test_size=0.3, \n",
    "                                   random_state=0)"
   ]
  },
  {
   "cell_type": "code",
   "execution_count": 16,
   "metadata": {},
   "outputs": [],
   "source": [
    "from sklearn.linear_model import LogisticRegression\n",
    "from sklearn.model_selection import GridSearchCV\n",
    "from sklearn.metrics import roc_auc_score\n",
    "\n",
    "def plot_scores(optimizer):\n",
    "    scores=[]\n",
    "    for i in range(len(optimizer.cv_results_['params'])):\n",
    "        scores.append([optimizer.cv_results_['params'][i]['C'], \n",
    "                optimizer.cv_results_['mean_test_score'][i],\n",
    "                optimizer.cv_results_['std_test_score'][i]])\n",
    "    scores = np.array(scores)\n",
    "    plt.semilogx(scores[:,0], scores[:,1])\n",
    "    plt.fill_between(scores[:,0], scores[:,1]-scores[:,2], \n",
    "                                  scores[:,1]+scores[:,2], alpha=0.3)\n",
    "    plt.show()\n",
    "\n",
    "        \n",
    "param_grid = {'C': [0.01, 0.05, 0.1, 0.5, 1, 5, 10]}\n",
    "cv = 3\n",
    "\n",
    "X_train_zeros = np.hstack((X_train_real_zeros, X_train_cat_oh))\n",
    "X_train_mean = np.hstack((X_train_real_mean, X_train_cat_oh))\n",
    "X_test_zeros = np.hstack((X_test_real_zeros, X_test_cat_oh))\n",
    "X_test_mean = np.hstack((X_test_real_mean, X_test_cat_oh))"
   ]
  },
  {
   "cell_type": "code",
   "execution_count": 17,
   "metadata": {},
   "outputs": [
    {
     "name": "stdout",
     "output_type": "stream",
     "text": [
      "CPU times: user 5 µs, sys: 1 µs, total: 6 µs\n",
      "Wall time: 11.9 µs\n"
     ]
    },
    {
     "data": {
      "text/plain": [
       "array([1, 0, 0, ..., 0, 0, 0])"
      ]
     },
     "execution_count": 17,
     "metadata": {},
     "output_type": "execute_result"
    }
   ],
   "source": [
    "%time\n",
    "estimator_zeros = LogisticRegression(random_state=0)\n",
    "optimizer_zeros = GridSearchCV(estimator_zeros, param_grid = param_grid, cv = cv)\n",
    "optimizer_zeros.fit(X_train_zeros, y_train)\n",
    "optimizer_zeros.predict(X_test_zeros)"
   ]
  },
  {
   "cell_type": "code",
   "execution_count": 18,
   "metadata": {},
   "outputs": [
    {
     "name": "stdout",
     "output_type": "stream",
     "text": [
      "Метки функции предсказаний:\n",
      "\n",
      "4320    0\n",
      "2006    1\n",
      "5689    0\n",
      "472     1\n",
      "1370    0\n",
      "1457    1\n",
      "5783    0\n",
      "3484    1\n",
      "1145    0\n",
      "130     1\n",
      "Name: Grant.Status, dtype: int64\n",
      "[1 0 0 1 0 1 0 0 0 1]\n",
      "Вероятности(т.к. функция логистическая):\n",
      "\n",
      "[[0.34083468 0.65916532]\n",
      " [0.57763805 0.42236195]\n",
      " [0.9054705  0.0945295 ]\n",
      " [0.09836229 0.90163771]\n",
      " [0.92611538 0.07388462]\n",
      " [0.07124118 0.92875882]\n",
      " [0.90708957 0.09291043]\n",
      " [0.86353785 0.13646215]\n",
      " [0.82064765 0.17935235]\n",
      " [0.2617227  0.7382773 ]]\n",
      "Лучшая функция:\n",
      "\n",
      "LogisticRegression(C=0.05, class_weight=None, dual=False, fit_intercept=True,\n",
      "          intercept_scaling=1, max_iter=100, multi_class='ovr', n_jobs=1,\n",
      "          penalty='l2', random_state=0, solver='liblinear', tol=0.0001,\n",
      "          verbose=0, warm_start=False)\n",
      "Коэффициенты лучшей функции:\n",
      "\n",
      "[[ 0.00946386  0.00962764  0.00644803 ...  0.94709272 -0.08139041\n",
      "   0.07013332]]\n",
      "Лучший параметр функции:\n",
      "\n",
      "{'C': 0.05}\n",
      "Ошибка:\n",
      "\n",
      "0.7952380952380952\n"
     ]
    },
    {
     "data": {
      "image/png": "[encoded data removed]",
      "text/plain": [
       "<Figure size 432x288 with 1 Axes>"
      ]
     },
     "metadata": {},
     "output_type": "display_data"
    },
    {
     "name": "stdout",
     "output_type": "stream",
     "text": [
      "0.8846286151969125\n"
     ]
    }
   ],
   "source": [
    "print ('Метки функции предсказаний:\\n')\n",
    "print (y_test[:10])\n",
    "print (optimizer_zeros.predict(X_test_zeros)[:10])\n",
    "print ('Вероятности(т.к. функция логистическая):\\n')\n",
    "print (optimizer_zeros.predict_proba(X_test_zeros)[:10])\n",
    "print ('Лучшая функция:\\n')\n",
    "print (optimizer_zeros.best_estimator_)\n",
    "print ('Коэффициенты лучшей функции:\\n')\n",
    "print (optimizer_zeros.best_estimator_.coef_)\n",
    "print ('Лучший параметр функции:\\n')\n",
    "print (optimizer_zeros.best_params_)\n",
    "print ('Ошибка:\\n')\n",
    "print (optimizer_zeros.best_score_)\n",
    "plot_scores(optimizer_zeros)\n",
    "auc_zeros=roc_auc_score(y_test, optimizer_zeros.predict_proba(X_test_zeros)[:,1])\n",
    "print (auc_zeros)"
   ]
  },
  {
   "cell_type": "code",
   "execution_count": 19,
   "metadata": {},
   "outputs": [
    {
     "data": {
      "text/plain": [
       "array([1, 0, 0, ..., 0, 0, 0])"
      ]
     },
     "execution_count": 19,
     "metadata": {},
     "output_type": "execute_result"
    }
   ],
   "source": [
    "estimator_mean = LogisticRegression(random_state=0)\n",
    "optimizer_mean = GridSearchCV(estimator_zeros, param_grid = param_grid, cv = cv)\n",
    "optimizer_mean.fit(X_train_mean, y_train)\n",
    "optimizer_mean.predict(X_test_mean)"
   ]
  },
  {
   "cell_type": "code",
   "execution_count": 20,
   "metadata": {
    "scrolled": true
   },
   "outputs": [
    {
     "name": "stdout",
     "output_type": "stream",
     "text": [
      "Метки функции предсказаний:\n",
      "\n",
      "4320    0\n",
      "2006    1\n",
      "5689    0\n",
      "472     1\n",
      "1370    0\n",
      "1457    1\n",
      "5783    0\n",
      "3484    1\n",
      "1145    0\n",
      "130     1\n",
      "Name: Grant.Status, dtype: int64\n",
      "[1 0 0 1 0 1 0 0 0 1]\n",
      "Вероятности(т.к. функция логистическая):\n",
      "\n",
      "[[0.35718115 0.64281885]\n",
      " [0.57416916 0.42583084]\n",
      " [0.90221414 0.09778586]\n",
      " [0.10735504 0.89264496]\n",
      " [0.91985266 0.08014734]\n",
      " [0.07645625 0.92354375]\n",
      " [0.91170657 0.08829343]\n",
      " [0.85988267 0.14011733]\n",
      " [0.8323369  0.1676631 ]\n",
      " [0.26613214 0.73386786]]\n",
      "Лучшая функция:\n",
      "\n",
      "LogisticRegression(C=0.05, class_weight=None, dual=False, fit_intercept=True,\n",
      "          intercept_scaling=1, max_iter=100, multi_class='ovr', n_jobs=1,\n",
      "          penalty='l2', random_state=0, solver='liblinear', tol=0.0001,\n",
      "          verbose=0, warm_start=False)\n",
      "Коэффициенты лучшей функции:\n",
      "\n",
      "[[ 0.0848126   0.08526772  0.08225478 ...  0.93214145 -0.08613547\n",
      "   0.08997262]]\n",
      "Лучший параметр функции:\n",
      "\n",
      "{'C': 0.05}\n",
      "Ошибка:\n",
      "\n",
      "0.795\n"
     ]
    },
    {
     "data": {
      "image/png": "[encoded data removed]",
      "text/plain": [
       "<Figure size 432x288 with 1 Axes>"
      ]
     },
     "metadata": {},
     "output_type": "display_data"
    },
    {
     "name": "stdout",
     "output_type": "stream",
     "text": [
      "0.8853438280717342\n"
     ]
    }
   ],
   "source": [
    "print ('Метки функции предсказаний:\\n')\n",
    "print (y_test[:10])\n",
    "print (optimizer_mean.predict(X_test_mean)[:10])\n",
    "print ('Вероятности(т.к. функция логистическая):\\n')\n",
    "print (optimizer_mean.predict_proba(X_test_mean)[:10])\n",
    "print ('Лучшая функция:\\n')\n",
    "print (optimizer_mean.best_estimator_)\n",
    "print ('Коэффициенты лучшей функции:\\n')\n",
    "print (optimizer_mean.best_estimator_.coef_)\n",
    "print ('Лучший параметр функции:\\n')\n",
    "print (optimizer_mean.best_params_)\n",
    "print ('Ошибка:\\n')\n",
    "print (optimizer_mean.best_score_)\n",
    "plot_scores(optimizer_mean)\n",
    "auc_mean=roc_auc_score(y_test, optimizer_mean.predict_proba(X_test_mean)[:,1])\n",
    "print (auc_mean)"
   ]
  },
  {
   "cell_type": "code",
   "execution_count": 21,
   "metadata": {},
   "outputs": [
    {
     "data": {
      "image/png": "[encoded data removed]",
      "text/plain": [
       "<Figure size 720x720 with 9 Axes>"
      ]
     },
     "metadata": {},
     "output_type": "display_data"
    }
   ],
   "source": [
    "from pandas.tools.plotting import scatter_matrix\n",
    "\n",
    "data_numeric = pd.DataFrame(X_train_real_zeros, columns=numeric_cols)\n",
    "list_cols = ['Number.of.Successful.Grant.1', 'SEO.Percentage.2', 'Year.of.Birth.1']\n",
    "scatter_matrix(data_numeric[list_cols], alpha=0.5, figsize=(10, 10))\n",
    "plt.show()"
   ]
  },
  {
   "cell_type": "code",
   "execution_count": 22,
   "metadata": {},
   "outputs": [],
   "source": [
    "from sklearn.preprocessing import StandardScaler\n",
    "scaler = StandardScaler()\n",
    "X_train_real_scaled = scaler.fit_transform(X_train_real_zeros)\n",
    "X_test_real_scaled = scaler.fit_transform(X_test_real_zeros)"
   ]
  },
  {
   "cell_type": "code",
   "execution_count": 23,
   "metadata": {},
   "outputs": [
    {
     "data": {
      "image/png": "[encoded data removed]",
      "text/plain": [
       "<Figure size 720x720 with 9 Axes>"
      ]
     },
     "metadata": {},
     "output_type": "display_data"
    }
   ],
   "source": [
    "data_numeric_scaled = pd.DataFrame(X_train_real_scaled, columns=numeric_cols)\n",
    "list_cols = ['Number.of.Successful.Grant.1', 'SEO.Percentage.2', 'Year.of.Birth.1']\n",
    "scatter_matrix(data_numeric_scaled[list_cols], alpha=0.5, figsize=(10, 10))\n",
    "plt.show()"
   ]
  },
  {
   "cell_type": "code",
   "execution_count": 24,
   "metadata": {},
   "outputs": [
    {
     "data": {
      "text/plain": [
       "array([1, 0, 0, ..., 0, 0, 0])"
      ]
     },
     "execution_count": 24,
     "metadata": {},
     "output_type": "execute_result"
    }
   ],
   "source": [
    "X_train_scaler = np.hstack((X_train_real_scaled, X_train_cat_oh))\n",
    "X_test_scaler = np.hstack((X_test_real_scaled, X_test_cat_oh))\n",
    "\n",
    "estimator_scaler = LogisticRegression(random_state=0)\n",
    "optimizer_scaler = GridSearchCV(estimator_scaler, param_grid = param_grid, cv = cv)\n",
    "optimizer_scaler.fit(X_train_scaler, y_train)\n",
    "optimizer_scaler.predict(X_test_scaler)"
   ]
  },
  {
   "cell_type": "code",
   "execution_count": 25,
   "metadata": {},
   "outputs": [
    {
     "name": "stdout",
     "output_type": "stream",
     "text": [
      "Метки функции предсказаний:\n",
      "\n",
      "4320    0\n",
      "2006    1\n",
      "5689    0\n",
      "472     1\n",
      "1370    0\n",
      "1457    1\n",
      "5783    0\n",
      "3484    1\n",
      "1145    0\n",
      "130     1\n",
      "Name: Grant.Status, dtype: int64\n",
      "[1 0 0 1 0 1 0 0 0 1]\n",
      "Вероятности(т.к. функция логистическая):\n",
      "\n",
      "[[0.35264573 0.64735427]\n",
      " [0.57182947 0.42817053]\n",
      " [0.91299747 0.08700253]\n",
      " [0.10047526 0.89952474]\n",
      " [0.92506054 0.07493946]\n",
      " [0.076137   0.923863  ]\n",
      " [0.9061877  0.0938123 ]\n",
      " [0.85595322 0.14404678]\n",
      " [0.82617076 0.17382924]\n",
      " [0.26336075 0.73663925]]\n",
      "Лучшая функция:\n",
      "\n",
      "LogisticRegression(C=0.05, class_weight=None, dual=False, fit_intercept=True,\n",
      "          intercept_scaling=1, max_iter=100, multi_class='ovr', n_jobs=1,\n",
      "          penalty='l2', random_state=0, solver='liblinear', tol=0.0001,\n",
      "          verbose=0, warm_start=False)\n",
      "Коэффициенты лучшей функции:\n",
      "\n",
      "[[ 0.07247474  0.05014383  0.00479832 ...  0.93951782 -0.0470486\n",
      "   0.1116746 ]]\n",
      "Лучший параметр функции:\n",
      "\n",
      "{'C': 0.05}\n",
      "Ошибка:\n",
      "\n",
      "0.795\n"
     ]
    },
    {
     "data": {
      "image/png": "[encoded data removed]",
      "text/plain": [
       "<Figure size 432x288 with 1 Axes>"
      ]
     },
     "metadata": {},
     "output_type": "display_data"
    },
    {
     "name": "stdout",
     "output_type": "stream",
     "text": [
      "0.884358863628208\n"
     ]
    }
   ],
   "source": [
    "print ('Метки функции предсказаний:\\n')\n",
    "print (y_test[:10])\n",
    "print (optimizer_scaler.predict(X_test_scaler)[:10])\n",
    "print ('Вероятности(т.к. функция логистическая):\\n')\n",
    "print (optimizer_scaler.predict_proba(X_test_scaler)[:10])\n",
    "print ('Лучшая функция:\\n')\n",
    "print (optimizer_scaler.best_estimator_)\n",
    "print ('Коэффициенты лучшей функции:\\n')\n",
    "print (optimizer_scaler.best_estimator_.coef_)\n",
    "print ('Лучший параметр функции:\\n')\n",
    "print (optimizer_scaler.best_params_)\n",
    "print ('Ошибка:\\n')\n",
    "print (optimizer_scaler.best_score_)\n",
    "plot_scores(optimizer_scaler)\n",
    "auc_scaler=roc_auc_score(y_test, optimizer_scaler.predict_proba(X_test_scaler)[:,1])\n",
    "print (auc_scaler)"
   ]
  },
  {
   "cell_type": "code",
   "execution_count": 26,
   "metadata": {},
   "outputs": [
    {
     "name": "stdout",
     "output_type": "stream",
     "text": [
      "2316\n",
      "1884\n"
     ]
    }
   ],
   "source": [
    "print(np.sum(y_train==0))\n",
    "print(np.sum(y_train==1))"
   ]
  },
  {
   "cell_type": "code",
   "execution_count": 27,
   "metadata": {},
   "outputs": [
    {
     "data": {
      "text/plain": [
       "array([1, 0, 0, ..., 0, 0, 0])"
      ]
     },
     "execution_count": 27,
     "metadata": {},
     "output_type": "execute_result"
    }
   ],
   "source": [
    "estimator_scaler_bal = LogisticRegression(random_state=0, class_weight = 'balanced')\n",
    "optimizer_scaler_bal = GridSearchCV(estimator_scaler_bal, param_grid = param_grid, cv = cv)\n",
    "optimizer_scaler_bal.fit(X_train_scaler, y_train)\n",
    "optimizer_scaler_bal.predict(X_test_scaler)"
   ]
  },
  {
   "cell_type": "code",
   "execution_count": 28,
   "metadata": {
    "scrolled": true
   },
   "outputs": [
    {
     "name": "stdout",
     "output_type": "stream",
     "text": [
      "0.7885714285714286\n"
     ]
    },
    {
     "data": {
      "image/png": "[encoded data removed]",
      "text/plain": [
       "<Figure size 432x288 with 1 Axes>"
      ]
     },
     "metadata": {},
     "output_type": "display_data"
    },
    {
     "name": "stdout",
     "output_type": "stream",
     "text": [
      "0.8866925859152559\n"
     ]
    }
   ],
   "source": [
    "print (optimizer_scaler_bal.best_score_)\n",
    "plot_scores(optimizer_scaler_bal)\n",
    "auc_scaler_bal=roc_auc_score(y_test, optimizer_scaler_bal.predict_proba(X_test_scaler)[:,1])\n",
    "print (auc_scaler_bal)"
   ]
  },
  {
   "cell_type": "code",
   "execution_count": 29,
   "metadata": {},
   "outputs": [],
   "source": [
    "np.random.seed(0)\n",
    "indices_to_add = np.random.randint(np.sum(y_train == 1), size=(np.sum(y_train == 0)-np.sum(y_train == 1)))\n",
    "X_train_to_add = X_train_scaler[y_train.as_matrix() == 1,:][indices_to_add,:]\n",
    "X_train_balanced = np.vstack((X_train_scaler, X_train_to_add))\n",
    "\n",
    "y_train_to_add = y_train[y_train == 1][indices_to_add]\n",
    "y_train_to_add = y_train_to_add.fillna(1)\n",
    "\n",
    "y_train_balanced = np.hstack((y_train, y_train_to_add))"
   ]
  },
  {
   "cell_type": "code",
   "execution_count": 30,
   "metadata": {
    "scrolled": true
   },
   "outputs": [
    {
     "name": "stdout",
     "output_type": "stream",
     "text": [
      "0.8054835924006909\n"
     ]
    },
    {
     "data": {
      "image/png": "[encoded data removed]",
      "text/plain": [
       "<Figure size 432x288 with 1 Axes>"
      ]
     },
     "metadata": {},
     "output_type": "display_data"
    },
    {
     "name": "stdout",
     "output_type": "stream",
     "text": [
      "0.883401121820056\n"
     ]
    }
   ],
   "source": [
    "optimizer_scaler_bal2 = GridSearchCV(LogisticRegression(random_state=0), param_grid, cv=cv)\n",
    "optimizer_scaler_bal2.fit(X_train_balanced, y_train_balanced)\n",
    "print (optimizer_scaler_bal2.best_score_)\n",
    "plot_scores(optimizer_scaler_bal2)\n",
    "auc_scaler_bal2=roc_auc_score(y_test, optimizer_scaler_bal2.predict_proba(X_test_scaler)[:,1])\n",
    "print (auc_scaler_bal2)"
   ]
  },
  {
   "cell_type": "code",
   "execution_count": 33,
   "metadata": {},
   "outputs": [],
   "source": [
    "(X_train_real_zeros_st, \n",
    " X_test_real_zeros_st, \n",
    " y_train_st, y_test_st) = train_test_split(X_real_zeros, y, \n",
    "                                     test_size=0.3, \n",
    "                                     random_state=0, stratify=y)\n",
    "(X_train_cat_oh_st,\n",
    " X_test_cat_oh_st) = train_test_split(X_cat_oh, \n",
    "                                   test_size=0.3, \n",
    "                                   random_state=0, stratify=y)"
   ]
  },
  {
   "cell_type": "code",
   "execution_count": 34,
   "metadata": {},
   "outputs": [],
   "source": [
    "X_train_real_st_scaled = scaler.fit_transform(X_train_real_zeros_st)\n",
    "X_test_real_st_scaled = scaler.fit_transform(X_test_real_zeros_st)\n",
    "X_train_st = np.hstack((X_train_real_st_scaled, X_train_cat_oh_st))\n",
    "X_test_st = np.hstack((X_test_real_st_scaled, X_test_cat_oh_st))"
   ]
  },
  {
   "cell_type": "code",
   "execution_count": 35,
   "metadata": {},
   "outputs": [
    {
     "data": {
      "text/plain": [
       "GridSearchCV(cv=3, error_score='raise',\n",
       "       estimator=LogisticRegression(C=1.0, class_weight='balanced', dual=False,\n",
       "          fit_intercept=True, intercept_scaling=1, max_iter=100,\n",
       "          multi_class='ovr', n_jobs=1, penalty='l2', random_state=0,\n",
       "          solver='liblinear', tol=0.0001, verbose=0, warm_start=False),\n",
       "       fit_params=None, iid=True, n_jobs=1,\n",
       "       param_grid={'C': [0.01, 0.05, 0.1, 0.5, 1, 5, 10]},\n",
       "       pre_dispatch='2*n_jobs', refit=True, return_train_score='warn',\n",
       "       scoring=None, verbose=0)"
      ]
     },
     "execution_count": 35,
     "metadata": {},
     "output_type": "execute_result"
    }
   ],
   "source": [
    "optimizer_st = GridSearchCV(LogisticRegression(random_state = 0, class_weight = 'balanced'), param_grid, cv=cv)\n",
    "optimizer_st.fit(X_train_st, y_train_st)"
   ]
  },
  {
   "cell_type": "code",
   "execution_count": 36,
   "metadata": {},
   "outputs": [
    {
     "data": {
      "image/png": "[encoded data removed]",
      "text/plain": [
       "<Figure size 432x288 with 1 Axes>"
      ]
     },
     "metadata": {},
     "output_type": "display_data"
    },
    {
     "name": "stdout",
     "output_type": "stream",
     "text": [
      "0.8016666666666666\n",
      "0.8794071768692251\n"
     ]
    }
   ],
   "source": [
    "plot_scores(optimizer_st)\n",
    "print(optimizer_st.best_score_)\n",
    "auc_st = roc_auc_score(y_test_st, optimizer_st.best_estimator_.predict_proba(X_test_st)[:,1])\n",
    "print(auc_st)"
   ]
  },
  {
   "cell_type": "code",
   "execution_count": 38,
   "metadata": {},
   "outputs": [],
   "source": [
    "from sklearn.preprocessing import PolynomialFeatures"
   ]
  },
  {
   "cell_type": "code",
   "execution_count": 41,
   "metadata": {},
   "outputs": [],
   "source": [
    "transform = PolynomialFeatures(3)\n",
    "X_train_real_poly = transform.fit_transform(X_train_real_zeros_st)\n",
    "X_test_real_poly = transform.transform(X_test_real_zeros_st)"
   ]
  },
  {
   "cell_type": "code",
   "execution_count": 42,
   "metadata": {
    "scrolled": true
   },
   "outputs": [
    {
     "data": {
      "image/png": "[encoded data removed]",
      "text/plain": [
       "<Figure size 432x288 with 1 Axes>"
      ]
     },
     "metadata": {},
     "output_type": "display_data"
    },
    {
     "name": "stdout",
     "output_type": "stream",
     "text": [
      "0.81\n"
     ]
    }
   ],
   "source": [
    "X_train_real_poly_scaled = scaler.fit_transform(X_train_real_poly)\n",
    "X_test_real_poly_scaled = scaler.fit_transform(X_test_real_poly)\n",
    "\n",
    "X_train_poly = np.hstack((X_train_real_poly_scaled, X_train_cat_oh_st))\n",
    "X_test_poly = np.hstack((X_test_real_poly_scaled, X_test_cat_oh_st))\n",
    "\n",
    "optimizer_poly = GridSearchCV(LogisticRegression(random_state = 0, fit_intercept=False), param_grid, cv=cv)\n",
    "optimizer_poly.fit(X_train_poly, y_train_st)\n",
    "plot_scores(optimizer_poly)\n",
    "print(optimizer_poly.best_score_)\n",
    "auc_poly = roc_auc_score(y_test_st, optimizer_poly.predict_proba(X_test_poly)[:,1])"
   ]
  },
  {
   "cell_type": "code",
   "execution_count": 43,
   "metadata": {},
   "outputs": [
    {
     "name": "stdout",
     "output_type": "stream",
     "text": [
      "0.8908474268455907\n"
     ]
    }
   ],
   "source": [
    "print(auc_poly)"
   ]
  },
  {
   "cell_type": "code",
   "execution_count": 44,
   "metadata": {},
   "outputs": [
    {
     "data": {
      "text/plain": [
       "GridSearchCV(cv=3, error_score='raise',\n",
       "       estimator=LogisticRegression(C=1.0, class_weight='balanced', dual=False,\n",
       "          fit_intercept=True, intercept_scaling=1, max_iter=100,\n",
       "          multi_class='ovr', n_jobs=1, penalty='l1', random_state=0,\n",
       "          solver='liblinear', tol=0.0001, verbose=0, warm_start=False),\n",
       "       fit_params=None, iid=True, n_jobs=1,\n",
       "       param_grid={'C': [0.01, 0.05, 0.1, 0.5, 1, 5, 10]},\n",
       "       pre_dispatch='2*n_jobs', refit=True, return_train_score='warn',\n",
       "       scoring=None, verbose=0)"
      ]
     },
     "execution_count": 44,
     "metadata": {},
     "output_type": "execute_result"
    }
   ],
   "source": [
    "(X_train_real_zeros_st, \n",
    " X_test_real_zeros_st, \n",
    " y_train_st, y_test_st) = train_test_split(X_real_zeros, y, \n",
    "                                     test_size=0.3, \n",
    "                                     random_state=0, stratify=y)\n",
    "(X_train_cat_oh_st,\n",
    " X_test_cat_oh_st) = train_test_split(X_cat_oh, \n",
    "                                   test_size=0.3, \n",
    "                                   random_state=0, stratify=y)\n",
    "scaler = StandardScaler()\n",
    "\n",
    "X_train_real_st_scaled = scaler.fit_transform(X_train_real_zeros_st)\n",
    "X_test_real_st_scaled = scaler.fit_transform(X_test_real_zeros_st)\n",
    "\n",
    "X_train_st = np.hstack((X_train_real_st_scaled, X_train_cat_oh_st))\n",
    "X_test_st = np.hstack((X_test_real_st_scaled, X_test_cat_oh_st))\n",
    "\n",
    "optimizer_lasso = GridSearchCV(LogisticRegression(random_state = 0, penalty='l1', class_weight = 'balanced'), param_grid, cv=cv)\n",
    "optimizer_lasso.fit(X_train_st, y_train_st)"
   ]
  },
  {
   "cell_type": "code",
   "execution_count": 46,
   "metadata": {},
   "outputs": [
    {
     "data": {
      "text/plain": [
       "0.8768111344966388"
      ]
     },
     "execution_count": 46,
     "metadata": {},
     "output_type": "execute_result"
    }
   ],
   "source": [
    "auc_lasso = roc_auc_score(y_test_st, optimizer_lasso.predict_proba(X_test_st)[:,1])\n",
    "auc_lasso"
   ]
  },
  {
   "cell_type": "code",
   "execution_count": 47,
   "metadata": {},
   "outputs": [
    {
     "name": "stdout",
     "output_type": "stream",
     "text": [
      "0 0.008938298303063441\n",
      "1 0.0391103803893587\n",
      "2 -0.09005706882725176\n",
      "3 -0.06811113130266974\n",
      "4 0.0\n",
      "4\n",
      "5 -0.004894008670611981\n",
      "6 0.0\n",
      "6\n",
      "7 0.0\n",
      "7\n",
      "8 0.02755608415561648\n",
      "9 -0.007144138880629491\n",
      "10 0.2327779338204974\n",
      "11 1.0651434243047013\n",
      "12 -1.4337627415511405\n"
     ]
    }
   ],
   "source": [
    "num = list()\n",
    "for i, coef in enumerate(optimizer_lasso.best_estimator_.coef_[0][:X_train_real_st_scaled.shape[1]]):\n",
    "    print (i, coef)\n",
    "    if coef == 0:\n",
    "        num.append(i)\n",
    "        print (i)"
   ]
  },
  {
   "cell_type": "code",
   "execution_count": 48,
   "metadata": {},
   "outputs": [
    {
     "data": {
      "image/png": "[encoded data removed]",
      "text/plain": [
       "<Figure size 432x288 with 1 Axes>"
      ]
     },
     "metadata": {},
     "output_type": "display_data"
    }
   ],
   "source": [
    "plot_scores(optimizer_lasso)"
   ]
  },
  {
   "cell_type": "code",
   "execution_count": 49,
   "metadata": {},
   "outputs": [
    {
     "name": "stdout",
     "output_type": "stream",
     "text": [
      "<enumerate object at 0x7f6dff215438>\n"
     ]
    }
   ],
   "source": [
    "print (enumerate(optimizer_lasso.best_estimator_.coef_[0][:X_train_real_st_scaled.shape[1]]))"
   ]
  }
 ],
 "metadata": {
  "kernelspec": {
   "display_name": "Python 3",
   "language": "python",
   "name": "python3"
  },
  "language_info": {
   "codemirror_mode": {
    "name": "ipython",
    "version": 3
   },
   "file_extension": ".py",
   "mimetype": "text/x-python",
   "name": "python",
   "nbconvert_exporter": "python",
   "pygments_lexer": "ipython3",
   "version": "3.6.5"
  }
 },
 "nbformat": 4,
 "nbformat_minor": 1
}
